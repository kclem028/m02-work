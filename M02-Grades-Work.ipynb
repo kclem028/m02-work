{
 "cells": [
  {
   "cell_type": "code",
   "execution_count": 11,
   "metadata": {},
   "outputs": [
    {
     "name": "stdout",
     "output_type": "stream",
     "text": [
      "Aiden Pearce has made the Dean's List.\n",
      "Aiden Pearce has made the Honor Roll.\n",
      "Aiden Pearce has made the Honor Roll.\n",
      "Aiden Pearce has made the Dean's List.\n",
      "Aiden Pearce has made the Dean's List.\n",
      "Aiden Pearce has made the Dean's List.\n",
      "Aiden Pearce has made the Dean's List.\n",
      "Aiden Pearce has made the Dean's List.\n",
      "Aiden Pearce has made the Dean's List.\n",
      "Aiden Pearce did not qualify for the Dean's List or the Honor Roll.\n"
     ]
    }
   ],
   "source": [
    "#This section asks for the first and last names of each student.\n",
    "first_name = input(\"What is your first name? \")\n",
    "last_name = input(\"What is your last name? \")\n",
    "\n",
    "#This section will stop processing student record if the last name is ZZZ.\n",
    "\n",
    "while True:\n",
    "    if last_name == \"ZZZ\":\n",
    "        print(\"Closing Program! Have a good day!\")\n",
    "        break\n",
    "\n",
    "    gpa = float(input(\"What is your GPA? \"))\n",
    "\n",
    "    if gpa >= 3.5:\n",
    "        print(first_name, last_name, \"has made the Dean's List.\")\n",
    "\n",
    "    elif gpa >= 3.25:\n",
    "        print(first_name, last_name, \"has made the Honor Roll.\")\n",
    "\n",
    "    else:\n",
    "        print(first_name, last_name, \"did not qualify for the Dean's List or the Honor Roll.\")\n",
    "        break"
   ]
  }
 ],
 "metadata": {
  "kernelspec": {
   "display_name": "Python 3",
   "language": "python",
   "name": "python3"
  },
  "language_info": {
   "codemirror_mode": {
    "name": "ipython",
    "version": 3
   },
   "file_extension": ".py",
   "mimetype": "text/x-python",
   "name": "python",
   "nbconvert_exporter": "python",
   "pygments_lexer": "ipython3",
   "version": "3.12.3"
  }
 },
 "nbformat": 4,
 "nbformat_minor": 2
}
