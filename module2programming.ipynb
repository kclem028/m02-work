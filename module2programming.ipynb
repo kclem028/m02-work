{
 "cells": [
  {
   "cell_type": "code",
   "execution_count": null,
   "metadata": {},
   "outputs": [
    {
     "name": "stdout",
     "output_type": "stream",
     "text": [
      "too low\n",
      "Too low\n",
      "cherry\n",
      "[3, 2, 1, 0]\n",
      "[3, 2, 1, 0]\n",
      "[3, 2, 1, 0]\n",
      "[3, 2, 1, 0]\n"
     ]
    },
    {
     "ename": "TypeError",
     "evalue": "'int' object is not iterable",
     "output_type": "error",
     "traceback": [
      "\u001b[1;31m---------------------------------------------------------------------------\u001b[0m",
      "\u001b[1;31mTypeError\u001b[0m                                 Traceback (most recent call last)",
      "Cell \u001b[1;32mIn[5], line 54\u001b[0m\n\u001b[0;32m     51\u001b[0m guess_me \u001b[38;5;241m=\u001b[39m \u001b[38;5;241m5\u001b[39m\n\u001b[0;32m     52\u001b[0m number \u001b[38;5;241m=\u001b[39m \u001b[38;5;241m1\u001b[39m\n\u001b[1;32m---> 54\u001b[0m \u001b[38;5;28;43;01mfor\u001b[39;49;00m\u001b[43m \u001b[49m\u001b[43mnumber\u001b[49m\u001b[43m \u001b[49m\u001b[38;5;129;43;01min\u001b[39;49;00m\u001b[43m \u001b[49m\u001b[43mguess_me\u001b[49m\u001b[43m:\u001b[49m\n\u001b[0;32m     55\u001b[0m \u001b[43m    \u001b[49m\u001b[38;5;28;43;01mif\u001b[39;49;00m\u001b[43m \u001b[49m\u001b[43mnumber\u001b[49m\u001b[43m \u001b[49m\u001b[38;5;241;43m<\u001b[39;49m\u001b[38;5;241;43m=\u001b[39;49m\u001b[43m \u001b[49m\u001b[43mguess_me\u001b[49m\u001b[43m:\u001b[49m\n\u001b[0;32m     56\u001b[0m \u001b[43m        \u001b[49m\u001b[38;5;28;43mprint\u001b[39;49m\u001b[43m(\u001b[49m\u001b[38;5;124;43m\"\u001b[39;49m\u001b[38;5;124;43mtoo low\u001b[39;49m\u001b[38;5;124;43m\"\u001b[39;49m\u001b[43m)\u001b[49m\n",
      "\u001b[1;31mTypeError\u001b[0m: 'int' object is not iterable"
     ]
    }
   ],
   "source": [
    "#4.1 Secret Number\n",
    "\n",
    "secret = 8\n",
    "guess = 4\n",
    "\n",
    "if guess == secret:\n",
    "    print(\"just right\")\n",
    "else:\n",
    "    print(\"too low\")\n",
    "\n",
    "if guess >= secret:\n",
    "    print(\"too high\")\n",
    "\n",
    "elif guess <= secret:\n",
    "    print(\"Too low\")\n",
    "\n",
    "elif guess == secret:\n",
    "    print(\"Just Right!\")\n",
    "\n",
    "input(\"What is the secret? \")\n",
    "\n",
    "#4.2 Assigning variables\n",
    "\n",
    "small = True\n",
    "green = False\n",
    "\n",
    "if small:\n",
    "    if green:\n",
    "        print(\"pea\")\n",
    "    else:\n",
    "        print(\"cherry\")\n",
    "else:\n",
    "    if green:\n",
    "        print(\"watermelon\")\n",
    "    else:\n",
    "        print(\"pumpkin\")\n",
    "\n",
    "input(\"What is Green and Small? \")\n",
    "\n",
    "#6.1 Assigning loops to list\n",
    "\n",
    "countdown = [3, 2, 1, 0]\n",
    "\n",
    "for num in countdown:\n",
    "    print(countdown)\n",
    "\n",
    "\n",
    "#6.2 Assigning values\n",
    "\n",
    "#guess_me = 7\n",
    "guess_me = 5\n",
    "number = 1\n",
    "\n",
    "for number in guess_me:\n",
    "    if number <= guess_me:\n",
    "        print(\"too low\")\n",
    "    elif number == guess_me:\n",
    "        print(\"Found it!\")\n",
    "    elif number >= guess_me:\n",
    "        print(\"oops\")\n",
    "        break\n",
    "\n",
    "print(\"Guess the Number: \")\n",
    "\n",
    "#6.3 Assigning values pt2\n",
    "\n",
    "for number in range(10):\n",
    "    if number <= guess_me:\n",
    "        print(\"too low\")\n",
    "    elif number == guess_me:\n",
    "        print(\"Found me!\")\n",
    "    elif number >= guess_me:\n",
    "        print(\"oops!\")\n",
    "        break\n",
    "\n",
    "print(\"Guess the Number: \")"
   ]
  }
 ],
 "metadata": {
  "kernelspec": {
   "display_name": "Python 3",
   "language": "python",
   "name": "python3"
  },
  "language_info": {
   "codemirror_mode": {
    "name": "ipython",
    "version": 3
   },
   "file_extension": ".py",
   "mimetype": "text/x-python",
   "name": "python",
   "nbconvert_exporter": "python",
   "pygments_lexer": "ipython3",
   "version": "3.12.3"
  }
 },
 "nbformat": 4,
 "nbformat_minor": 2
}
